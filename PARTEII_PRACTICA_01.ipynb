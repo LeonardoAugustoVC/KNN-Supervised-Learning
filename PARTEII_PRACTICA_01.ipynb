{
 "cells": [
  {
   "cell_type": "code",
   "execution_count": 1,
   "metadata": {},
   "outputs": [],
   "source": [
    "from LIBRERIAS import *"
   ]
  },
  {
   "cell_type": "code",
   "execution_count": 2,
   "metadata": {},
   "outputs": [],
   "source": [
    "# Extraccion y Modificación del DataFrame.\n",
    "\n",
    "url= (\"https://archive.ics.uci.edu/ml/machine-learning-databases/abalone/abalone.data\")\n",
    "\n",
    "abalones= pd.read_csv(url, header=None)\n",
    "\n",
    "abalones.columns= [\"Sex\", \"Lenght\", \"Diameter\", \"Height\", \"Whole Weight\", \"Shucked Weight\", \"Viscera Weight\", \"Shell Weight\", \"Rings\"]\n",
    "\n",
    "abalones= abalones.drop(\"Sex\", axis=1)"
   ]
  },
  {
   "cell_type": "code",
   "execution_count": 3,
   "metadata": {},
   "outputs": [
    {
     "name": "stdout",
     "output_type": "stream",
     "text": [
      "<class 'pandas.core.frame.DataFrame'>\n",
      "RangeIndex: 4177 entries, 0 to 4176\n",
      "Data columns (total 8 columns):\n",
      " #   Column          Non-Null Count  Dtype  \n",
      "---  ------          --------------  -----  \n",
      " 0   Lenght          4177 non-null   float64\n",
      " 1   Diameter        4177 non-null   float64\n",
      " 2   Height          4177 non-null   float64\n",
      " 3   Whole Weight    4177 non-null   float64\n",
      " 4   Shucked Weight  4177 non-null   float64\n",
      " 5   Viscera Weight  4177 non-null   float64\n",
      " 6   Shell Weight    4177 non-null   float64\n",
      " 7   Rings           4177 non-null   int64  \n",
      "dtypes: float64(7), int64(1)\n",
      "memory usage: 261.2 KB\n"
     ]
    }
   ],
   "source": [
    "abalones.info()"
   ]
  },
  {
   "cell_type": "code",
   "execution_count": 4,
   "metadata": {},
   "outputs": [
    {
     "data": {
      "text/html": [
       "<div>\n",
       "<style scoped>\n",
       "    .dataframe tbody tr th:only-of-type {\n",
       "        vertical-align: middle;\n",
       "    }\n",
       "\n",
       "    .dataframe tbody tr th {\n",
       "        vertical-align: top;\n",
       "    }\n",
       "\n",
       "    .dataframe thead th {\n",
       "        text-align: right;\n",
       "    }\n",
       "</style>\n",
       "<table border=\"1\" class=\"dataframe\">\n",
       "  <thead>\n",
       "    <tr style=\"text-align: right;\">\n",
       "      <th></th>\n",
       "      <th>Lenght</th>\n",
       "      <th>Diameter</th>\n",
       "      <th>Height</th>\n",
       "      <th>Whole Weight</th>\n",
       "      <th>Shucked Weight</th>\n",
       "      <th>Viscera Weight</th>\n",
       "      <th>Shell Weight</th>\n",
       "      <th>Rings</th>\n",
       "    </tr>\n",
       "  </thead>\n",
       "  <tbody>\n",
       "    <tr>\n",
       "      <th>0</th>\n",
       "      <td>0.455</td>\n",
       "      <td>0.365</td>\n",
       "      <td>0.095</td>\n",
       "      <td>0.5140</td>\n",
       "      <td>0.2245</td>\n",
       "      <td>0.1010</td>\n",
       "      <td>0.150</td>\n",
       "      <td>15</td>\n",
       "    </tr>\n",
       "    <tr>\n",
       "      <th>1</th>\n",
       "      <td>0.350</td>\n",
       "      <td>0.265</td>\n",
       "      <td>0.090</td>\n",
       "      <td>0.2255</td>\n",
       "      <td>0.0995</td>\n",
       "      <td>0.0485</td>\n",
       "      <td>0.070</td>\n",
       "      <td>7</td>\n",
       "    </tr>\n",
       "    <tr>\n",
       "      <th>2</th>\n",
       "      <td>0.530</td>\n",
       "      <td>0.420</td>\n",
       "      <td>0.135</td>\n",
       "      <td>0.6770</td>\n",
       "      <td>0.2565</td>\n",
       "      <td>0.1415</td>\n",
       "      <td>0.210</td>\n",
       "      <td>9</td>\n",
       "    </tr>\n",
       "    <tr>\n",
       "      <th>3</th>\n",
       "      <td>0.440</td>\n",
       "      <td>0.365</td>\n",
       "      <td>0.125</td>\n",
       "      <td>0.5160</td>\n",
       "      <td>0.2155</td>\n",
       "      <td>0.1140</td>\n",
       "      <td>0.155</td>\n",
       "      <td>10</td>\n",
       "    </tr>\n",
       "    <tr>\n",
       "      <th>4</th>\n",
       "      <td>0.330</td>\n",
       "      <td>0.255</td>\n",
       "      <td>0.080</td>\n",
       "      <td>0.2050</td>\n",
       "      <td>0.0895</td>\n",
       "      <td>0.0395</td>\n",
       "      <td>0.055</td>\n",
       "      <td>7</td>\n",
       "    </tr>\n",
       "  </tbody>\n",
       "</table>\n",
       "</div>"
      ],
      "text/plain": [
       "   Lenght  Diameter  Height  Whole Weight  Shucked Weight  Viscera Weight  \\\n",
       "0   0.455     0.365   0.095        0.5140          0.2245          0.1010   \n",
       "1   0.350     0.265   0.090        0.2255          0.0995          0.0485   \n",
       "2   0.530     0.420   0.135        0.6770          0.2565          0.1415   \n",
       "3   0.440     0.365   0.125        0.5160          0.2155          0.1140   \n",
       "4   0.330     0.255   0.080        0.2050          0.0895          0.0395   \n",
       "\n",
       "   Shell Weight  Rings  \n",
       "0         0.150     15  \n",
       "1         0.070      7  \n",
       "2         0.210      9  \n",
       "3         0.155     10  \n",
       "4         0.055      7  "
      ]
     },
     "execution_count": 4,
     "metadata": {},
     "output_type": "execute_result"
    }
   ],
   "source": [
    "abalones.head()"
   ]
  },
  {
   "cell_type": "code",
   "execution_count": 5,
   "metadata": {},
   "outputs": [
    {
     "data": {
      "text/html": [
       "<div>\n",
       "<style scoped>\n",
       "    .dataframe tbody tr th:only-of-type {\n",
       "        vertical-align: middle;\n",
       "    }\n",
       "\n",
       "    .dataframe tbody tr th {\n",
       "        vertical-align: top;\n",
       "    }\n",
       "\n",
       "    .dataframe thead th {\n",
       "        text-align: right;\n",
       "    }\n",
       "</style>\n",
       "<table border=\"1\" class=\"dataframe\">\n",
       "  <thead>\n",
       "    <tr style=\"text-align: right;\">\n",
       "      <th></th>\n",
       "      <th>count</th>\n",
       "      <th>mean</th>\n",
       "      <th>std</th>\n",
       "      <th>min</th>\n",
       "      <th>25%</th>\n",
       "      <th>50%</th>\n",
       "      <th>75%</th>\n",
       "      <th>max</th>\n",
       "    </tr>\n",
       "  </thead>\n",
       "  <tbody>\n",
       "    <tr>\n",
       "      <th>Lenght</th>\n",
       "      <td>4177.0</td>\n",
       "      <td>0.523992</td>\n",
       "      <td>0.120093</td>\n",
       "      <td>0.0750</td>\n",
       "      <td>0.4500</td>\n",
       "      <td>0.5450</td>\n",
       "      <td>0.615</td>\n",
       "      <td>0.8150</td>\n",
       "    </tr>\n",
       "    <tr>\n",
       "      <th>Diameter</th>\n",
       "      <td>4177.0</td>\n",
       "      <td>0.407881</td>\n",
       "      <td>0.099240</td>\n",
       "      <td>0.0550</td>\n",
       "      <td>0.3500</td>\n",
       "      <td>0.4250</td>\n",
       "      <td>0.480</td>\n",
       "      <td>0.6500</td>\n",
       "    </tr>\n",
       "    <tr>\n",
       "      <th>Height</th>\n",
       "      <td>4177.0</td>\n",
       "      <td>0.139516</td>\n",
       "      <td>0.041827</td>\n",
       "      <td>0.0000</td>\n",
       "      <td>0.1150</td>\n",
       "      <td>0.1400</td>\n",
       "      <td>0.165</td>\n",
       "      <td>1.1300</td>\n",
       "    </tr>\n",
       "    <tr>\n",
       "      <th>Whole Weight</th>\n",
       "      <td>4177.0</td>\n",
       "      <td>0.828742</td>\n",
       "      <td>0.490389</td>\n",
       "      <td>0.0020</td>\n",
       "      <td>0.4415</td>\n",
       "      <td>0.7995</td>\n",
       "      <td>1.153</td>\n",
       "      <td>2.8255</td>\n",
       "    </tr>\n",
       "    <tr>\n",
       "      <th>Shucked Weight</th>\n",
       "      <td>4177.0</td>\n",
       "      <td>0.359367</td>\n",
       "      <td>0.221963</td>\n",
       "      <td>0.0010</td>\n",
       "      <td>0.1860</td>\n",
       "      <td>0.3360</td>\n",
       "      <td>0.502</td>\n",
       "      <td>1.4880</td>\n",
       "    </tr>\n",
       "    <tr>\n",
       "      <th>Viscera Weight</th>\n",
       "      <td>4177.0</td>\n",
       "      <td>0.180594</td>\n",
       "      <td>0.109614</td>\n",
       "      <td>0.0005</td>\n",
       "      <td>0.0935</td>\n",
       "      <td>0.1710</td>\n",
       "      <td>0.253</td>\n",
       "      <td>0.7600</td>\n",
       "    </tr>\n",
       "    <tr>\n",
       "      <th>Shell Weight</th>\n",
       "      <td>4177.0</td>\n",
       "      <td>0.238831</td>\n",
       "      <td>0.139203</td>\n",
       "      <td>0.0015</td>\n",
       "      <td>0.1300</td>\n",
       "      <td>0.2340</td>\n",
       "      <td>0.329</td>\n",
       "      <td>1.0050</td>\n",
       "    </tr>\n",
       "    <tr>\n",
       "      <th>Rings</th>\n",
       "      <td>4177.0</td>\n",
       "      <td>9.933684</td>\n",
       "      <td>3.224169</td>\n",
       "      <td>1.0000</td>\n",
       "      <td>8.0000</td>\n",
       "      <td>9.0000</td>\n",
       "      <td>11.000</td>\n",
       "      <td>29.0000</td>\n",
       "    </tr>\n",
       "  </tbody>\n",
       "</table>\n",
       "</div>"
      ],
      "text/plain": [
       "                 count      mean       std     min     25%     50%     75%  \\\n",
       "Lenght          4177.0  0.523992  0.120093  0.0750  0.4500  0.5450   0.615   \n",
       "Diameter        4177.0  0.407881  0.099240  0.0550  0.3500  0.4250   0.480   \n",
       "Height          4177.0  0.139516  0.041827  0.0000  0.1150  0.1400   0.165   \n",
       "Whole Weight    4177.0  0.828742  0.490389  0.0020  0.4415  0.7995   1.153   \n",
       "Shucked Weight  4177.0  0.359367  0.221963  0.0010  0.1860  0.3360   0.502   \n",
       "Viscera Weight  4177.0  0.180594  0.109614  0.0005  0.0935  0.1710   0.253   \n",
       "Shell Weight    4177.0  0.238831  0.139203  0.0015  0.1300  0.2340   0.329   \n",
       "Rings           4177.0  9.933684  3.224169  1.0000  8.0000  9.0000  11.000   \n",
       "\n",
       "                    max  \n",
       "Lenght           0.8150  \n",
       "Diameter         0.6500  \n",
       "Height           1.1300  \n",
       "Whole Weight     2.8255  \n",
       "Shucked Weight   1.4880  \n",
       "Viscera Weight   0.7600  \n",
       "Shell Weight     1.0050  \n",
       "Rings           29.0000  "
      ]
     },
     "execution_count": 5,
     "metadata": {},
     "output_type": "execute_result"
    }
   ],
   "source": [
    "abalones.describe(percentiles=(.25, .5, .75)).transpose()"
   ]
  },
  {
   "cell_type": "code",
   "execution_count": 6,
   "metadata": {},
   "outputs": [
    {
     "data": {
      "text/html": [
       "<div>\n",
       "<style scoped>\n",
       "    .dataframe tbody tr th:only-of-type {\n",
       "        vertical-align: middle;\n",
       "    }\n",
       "\n",
       "    .dataframe tbody tr th {\n",
       "        vertical-align: top;\n",
       "    }\n",
       "\n",
       "    .dataframe thead th {\n",
       "        text-align: right;\n",
       "    }\n",
       "</style>\n",
       "<table border=\"1\" class=\"dataframe\">\n",
       "  <thead>\n",
       "    <tr style=\"text-align: right;\">\n",
       "      <th></th>\n",
       "      <th>Lenght</th>\n",
       "      <th>Diameter</th>\n",
       "      <th>Height</th>\n",
       "      <th>Whole Weight</th>\n",
       "      <th>Shucked Weight</th>\n",
       "      <th>Viscera Weight</th>\n",
       "      <th>Shell Weight</th>\n",
       "      <th>Rings</th>\n",
       "    </tr>\n",
       "  </thead>\n",
       "  <tbody>\n",
       "    <tr>\n",
       "      <th>Lenght</th>\n",
       "      <td>1.000000</td>\n",
       "      <td>0.986812</td>\n",
       "      <td>0.827554</td>\n",
       "      <td>0.925261</td>\n",
       "      <td>0.897914</td>\n",
       "      <td>0.903018</td>\n",
       "      <td>0.897706</td>\n",
       "      <td>0.556720</td>\n",
       "    </tr>\n",
       "    <tr>\n",
       "      <th>Diameter</th>\n",
       "      <td>0.986812</td>\n",
       "      <td>1.000000</td>\n",
       "      <td>0.833684</td>\n",
       "      <td>0.925452</td>\n",
       "      <td>0.893162</td>\n",
       "      <td>0.899724</td>\n",
       "      <td>0.905330</td>\n",
       "      <td>0.574660</td>\n",
       "    </tr>\n",
       "    <tr>\n",
       "      <th>Height</th>\n",
       "      <td>0.827554</td>\n",
       "      <td>0.833684</td>\n",
       "      <td>1.000000</td>\n",
       "      <td>0.819221</td>\n",
       "      <td>0.774972</td>\n",
       "      <td>0.798319</td>\n",
       "      <td>0.817338</td>\n",
       "      <td>0.557467</td>\n",
       "    </tr>\n",
       "    <tr>\n",
       "      <th>Whole Weight</th>\n",
       "      <td>0.925261</td>\n",
       "      <td>0.925452</td>\n",
       "      <td>0.819221</td>\n",
       "      <td>1.000000</td>\n",
       "      <td>0.969405</td>\n",
       "      <td>0.966375</td>\n",
       "      <td>0.955355</td>\n",
       "      <td>0.540390</td>\n",
       "    </tr>\n",
       "    <tr>\n",
       "      <th>Shucked Weight</th>\n",
       "      <td>0.897914</td>\n",
       "      <td>0.893162</td>\n",
       "      <td>0.774972</td>\n",
       "      <td>0.969405</td>\n",
       "      <td>1.000000</td>\n",
       "      <td>0.931961</td>\n",
       "      <td>0.882617</td>\n",
       "      <td>0.420884</td>\n",
       "    </tr>\n",
       "    <tr>\n",
       "      <th>Viscera Weight</th>\n",
       "      <td>0.903018</td>\n",
       "      <td>0.899724</td>\n",
       "      <td>0.798319</td>\n",
       "      <td>0.966375</td>\n",
       "      <td>0.931961</td>\n",
       "      <td>1.000000</td>\n",
       "      <td>0.907656</td>\n",
       "      <td>0.503819</td>\n",
       "    </tr>\n",
       "    <tr>\n",
       "      <th>Shell Weight</th>\n",
       "      <td>0.897706</td>\n",
       "      <td>0.905330</td>\n",
       "      <td>0.817338</td>\n",
       "      <td>0.955355</td>\n",
       "      <td>0.882617</td>\n",
       "      <td>0.907656</td>\n",
       "      <td>1.000000</td>\n",
       "      <td>0.627574</td>\n",
       "    </tr>\n",
       "    <tr>\n",
       "      <th>Rings</th>\n",
       "      <td>0.556720</td>\n",
       "      <td>0.574660</td>\n",
       "      <td>0.557467</td>\n",
       "      <td>0.540390</td>\n",
       "      <td>0.420884</td>\n",
       "      <td>0.503819</td>\n",
       "      <td>0.627574</td>\n",
       "      <td>1.000000</td>\n",
       "    </tr>\n",
       "  </tbody>\n",
       "</table>\n",
       "</div>"
      ],
      "text/plain": [
       "                  Lenght  Diameter    Height  Whole Weight  Shucked Weight  \\\n",
       "Lenght          1.000000  0.986812  0.827554      0.925261        0.897914   \n",
       "Diameter        0.986812  1.000000  0.833684      0.925452        0.893162   \n",
       "Height          0.827554  0.833684  1.000000      0.819221        0.774972   \n",
       "Whole Weight    0.925261  0.925452  0.819221      1.000000        0.969405   \n",
       "Shucked Weight  0.897914  0.893162  0.774972      0.969405        1.000000   \n",
       "Viscera Weight  0.903018  0.899724  0.798319      0.966375        0.931961   \n",
       "Shell Weight    0.897706  0.905330  0.817338      0.955355        0.882617   \n",
       "Rings           0.556720  0.574660  0.557467      0.540390        0.420884   \n",
       "\n",
       "                Viscera Weight  Shell Weight     Rings  \n",
       "Lenght                0.903018      0.897706  0.556720  \n",
       "Diameter              0.899724      0.905330  0.574660  \n",
       "Height                0.798319      0.817338  0.557467  \n",
       "Whole Weight          0.966375      0.955355  0.540390  \n",
       "Shucked Weight        0.931961      0.882617  0.420884  \n",
       "Viscera Weight        1.000000      0.907656  0.503819  \n",
       "Shell Weight          0.907656      1.000000  0.627574  \n",
       "Rings                 0.503819      0.627574  1.000000  "
      ]
     },
     "execution_count": 6,
     "metadata": {},
     "output_type": "execute_result"
    }
   ],
   "source": [
    "abalones.corr()"
   ]
  },
  {
   "cell_type": "code",
   "execution_count": 7,
   "metadata": {},
   "outputs": [],
   "source": [
    "# Y:  \"Rings\" Datos dependientes\n",
    "#X: Datos Independependietes\n",
    "X,Y= abalones.loc[:,abalones.columns != \"Rings\"], abalones.loc[:,\"Rings\"]\n",
    "\n",
    "x= X.values\n",
    "y= Y.values\n",
    "\n",
    "# Datos de Entrenamiento y Datos de Testeo\n",
    "\n",
    "X_train,X_test, Y_train, Y_test= train_test_split(X,Y, test_size=0.2, random_state=12345)"
   ]
  },
  {
   "cell_type": "code",
   "execution_count": 8,
   "metadata": {},
   "outputs": [],
   "source": [
    "#Datos Previamente Analizado\n",
    "nuevos_datos={\"Length\": 0.569552, \"Diameter\": 0.446407, \"Heigth\": 0.154437, \"Whole_Weight\": 1.016849, \"Shucked_Weight\": 0.439051, \"Viscera_Weight\": 0.222526 , \"Shell_Weight\": 0.291208}\n",
    "\n",
    "datos= [nuevos_datos[\"Length\"], nuevos_datos[\"Diameter\"], nuevos_datos[\"Heigth\"], nuevos_datos[\"Whole_Weight\"], nuevos_datos[\"Shucked_Weight\"], nuevos_datos[\"Viscera_Weight\"], nuevos_datos[\"Shell_Weight\"]]\n",
    "\n",
    "nuevo_punto_especimen= np.array(datos)\n"
   ]
  },
  {
   "cell_type": "code",
   "execution_count": 9,
   "metadata": {},
   "outputs": [],
   "source": [
    "# De acuerdo con el mejoramiento de complejdad del modelo el valor de K adecuado es= 45  por lo tanto:\n",
    "\n",
    "K= 45\n"
   ]
  },
  {
   "cell_type": "code",
   "execution_count": 10,
   "metadata": {},
   "outputs": [
    {
     "name": "stdout",
     "output_type": "stream",
     "text": [
      "Score GridSearchCV: 0.5571474922954613\n",
      "Score GridSearchCV_Afinado: 0.5625767373997524\n",
      "Score GridSearchCV_Baggin:0.561358368912092\n"
     ]
    }
   ],
   "source": [
    "# Se va a emplear el Algortimo KNN Afinado mediante Bagging\n",
    "\n",
    "#Algortimo KNN GridSearch\n",
    "\n",
    "parameters= {\"n_neighbors\": [K]}\n",
    "\n",
    "GridSearch_CV= GridSearchCV(KNeighborsRegressor(), parameters)\n",
    "\n",
    "GridSearch_CV.fit(X_train, Y_train)\n",
    "\n",
    "GridSearch_CV.best_params_\n",
    "\n",
    "GridSearch_CV_Train= GridSearch_CV.predict(X_train)\n",
    "\n",
    "GridSearch_CV_Test= GridSearch_CV.predict(X_test)\n",
    "\n",
    "print (f\"Score GridSearchCV: {GridSearch_CV.score(X_test, Y_test)}\")\n",
    "\n",
    "#Algortimo KNN GridSearch_afinado\n",
    "\n",
    "parameters= {\"n_neighbors\": [K],\"weights\":[\"uniform\",  \"distance\"]}\n",
    "\n",
    "GridSearch_afinado= GridSearchCV(KNeighborsRegressor(), parameters)\n",
    "\n",
    "GridSearch_afinado.fit(X_train, Y_train)\n",
    "\n",
    "GridSearch_afinado.best_params_\n",
    "\n",
    "TEST_GRIDSEARCH_Predict=GridSearch_afinado.predict(X_test) #X_train en vez de X_test\n",
    "\n",
    "print(f\"Score GridSearchCV_Afinado: {GridSearch_afinado.score(X_test, Y_test)}\")\n",
    "\n",
    "#Algoritmo KNN Bagging\n",
    "\n",
    "best_k= GridSearch_afinado.best_params_[\"n_neighbors\"]\n",
    "\n",
    "best_weight= GridSearch_afinado.best_params_[\"weights\"]\n",
    "\n",
    "bagging_knn= KNeighborsRegressor(n_neighbors=best_k, weights= best_weight)\n",
    "\n",
    "KNN_Bagging_Model= BaggingRegressor(bagging_knn, n_estimators= 100)\n",
    "\n",
    "KNN_Bagging_Model.fit( X_train, Y_train)\n",
    "\n",
    "print (f\"Score GridSearchCV_Baggin:{KNN_Bagging_Model.score(X_test, Y_test)}\")\n"
   ]
  },
  {
   "cell_type": "markdown",
   "metadata": {},
   "source": [
    "# Cálculo Errores"
   ]
  },
  {
   "cell_type": "code",
   "execution_count": 11,
   "metadata": {},
   "outputs": [
    {
     "name": "stdout",
     "output_type": "stream",
     "text": [
      "MSE KNN GridSearch CV: 4.831596668438774\n",
      "RMSE KNN GridSearch CV: 2.1980893222157225\n"
     ]
    }
   ],
   "source": [
    "#Algoritmo KNN GriSearchCV\n",
    "MSE_KNN_GridsearchCV= mean_squared_error(Y_test, GridSearch_CV_Test)\n",
    "\n",
    "RMSE_KNN_GridsearchCV= sqrt(MSE_KNN_GridsearchCV)\n",
    "\n",
    "print (f\"MSE KNN GridSearch CV: {MSE_KNN_GridsearchCV}\")\n",
    "\n",
    "print(f\"RMSE KNN GridSearch CV: {RMSE_KNN_GridsearchCV}\")"
   ]
  },
  {
   "cell_type": "code",
   "execution_count": 12,
   "metadata": {},
   "outputs": [
    {
     "name": "stdout",
     "output_type": "stream",
     "text": [
      "MSE KNN GridSearch CV Afinado: 4.772362674949609\n",
      "RMSE KNN GridSearch CV Afinado: 2.18457379709398\n"
     ]
    }
   ],
   "source": [
    "# Algoritmo KNN GridSearchCV Afinado\n",
    "\n",
    "MSE_KNN_GAFINADO= mean_squared_error(Y_test, TEST_GRIDSEARCH_Predict)\n",
    "\n",
    "RMSE_KNN_GAFINADO= sqrt(MSE_KNN_GAFINADO)\n",
    "\n",
    "print (f\"MSE KNN GridSearch CV Afinado: {MSE_KNN_GAFINADO}\")\n",
    "\n",
    "print(f\"RMSE KNN GridSearch CV Afinado: {RMSE_KNN_GAFINADO}\")"
   ]
  },
  {
   "cell_type": "code",
   "execution_count": 13,
   "metadata": {},
   "outputs": [
    {
     "name": "stdout",
     "output_type": "stream",
     "text": [
      "MSE KNN Bagging: 4.772362674949609\n",
      "RMSE KNN Bagging: 2.18457379709398\n"
     ]
    }
   ],
   "source": [
    "#Algoritmo KNN Bagging\n",
    "\n",
    "MSE_KNN_Bagging= mean_squared_error(Y_test, TEST_GRIDSEARCH_Predict)\n",
    "\n",
    "RMSE_KNN_Bagging= sqrt(MSE_KNN_Bagging)\n",
    "\n",
    "print (f\"MSE KNN Bagging: {MSE_KNN_Bagging}\")\n",
    "\n",
    "print(f\"RMSE KNN Bagging: {RMSE_KNN_Bagging}\")\n"
   ]
  },
  {
   "cell_type": "markdown",
   "metadata": {},
   "source": [
    "Predicciones nuevo_punto_especimen= np.array(datos)"
   ]
  },
  {
   "cell_type": "code",
   "execution_count": 14,
   "metadata": {},
   "outputs": [],
   "source": [
    "# Distancias Euclidianas\n",
    "\n",
    "distancias_euclidianas= np.linalg.norm(x-nuevo_punto_especimen, axis= 1)\n",
    "\n",
    "nearest_neigbors_ids= distancias_euclidianas.argsort()[:K] \n",
    "\n",
    "nearest_neigbors_ids= Y[nearest_neigbors_ids]"
   ]
  },
  {
   "cell_type": "code",
   "execution_count": 15,
   "metadata": {},
   "outputs": [
    {
     "name": "stdout",
     "output_type": "stream",
     "text": [
      "Predicción Edad KNN Simple:13.333333333333334\n"
     ]
    }
   ],
   "source": [
    "# Algoritmo KNN Simple Predicción de Edad\n",
    "\n",
    "KNN_model= KNeighborsRegressor(n_neighbors= K)\n",
    "\n",
    "KNN_model.fit( X_train, Y_train)\n",
    "\n",
    "KNN_model= Y[nearest_neigbors_ids]\n",
    "\n",
    "prediccion_KNN= KNN_model.mean()\n",
    "\n",
    "print (f\"Predicción Edad KNN Simple:{prediccion_KNN}\")"
   ]
  },
  {
   "cell_type": "code",
   "execution_count": 16,
   "metadata": {},
   "outputs": [
    {
     "name": "stdout",
     "output_type": "stream",
     "text": [
      "Predicción Edad KNN GridSearchCV:13.333333333333334\n"
     ]
    }
   ],
   "source": [
    "# Prediccion de Edad KNN GridSearchCV \n",
    "\n",
    "GridSearch_CV= Y[nearest_neigbors_ids]\n",
    "\n",
    "prediccion_KNN_GridsearchCV= GridSearch_CV.mean()\n",
    "\n",
    "print (f\"Predicción Edad KNN GridSearchCV:{prediccion_KNN_GridsearchCV}\")"
   ]
  },
  {
   "cell_type": "code",
   "execution_count": 17,
   "metadata": {},
   "outputs": [
    {
     "name": "stdout",
     "output_type": "stream",
     "text": [
      "Predicción Edad KNN GridSearch Afinado:13.333333333333334\n"
     ]
    }
   ],
   "source": [
    "# Predicción de Edad GridSearchCV Afinado\n",
    "\n",
    "GridSearch_afinado= Y[nearest_neigbors_ids]\n",
    "\n",
    "prediccion_KNN_GridSearch_afinado= GridSearch_afinado.mean()\n",
    "\n",
    "print(f\"Predicción Edad KNN GridSearch Afinado:{prediccion_KNN_GridSearch_afinado}\")"
   ]
  },
  {
   "cell_type": "code",
   "execution_count": 18,
   "metadata": {},
   "outputs": [
    {
     "name": "stdout",
     "output_type": "stream",
     "text": [
      "Predicción de Edad KNN Bagging: 13.333333333333334\n"
     ]
    }
   ],
   "source": [
    "# Predicciones Empleando KNN Bagging Model con K=45\n",
    "\n",
    "KNN_Bagging_Model= Y[nearest_neigbors_ids]\n",
    "\n",
    "pred_KNN_Bagging_Model= KNN_Bagging_Model.mean()\n",
    "\n",
    "print (f\"Predicción de Edad KNN Bagging: {pred_KNN_Bagging_Model}\")\n"
   ]
  },
  {
   "cell_type": "code",
   "execution_count": 19,
   "metadata": {},
   "outputs": [
    {
     "data": {
      "image/png": "[encoded data removed]",
      "text/plain": [
       "<Figure size 640x480 with 2 Axes>"
      ]
     },
     "metadata": {},
     "output_type": "display_data"
    }
   ],
   "source": [
    "# Plot \n",
    "\n",
    "cmap= sns.cubehelix_palette(as_cmap= True)\n",
    "\n",
    "f,ax= plt.subplots()\n",
    "\n",
    "points= ax.scatter(X_test.iloc[:, 0], X_test.iloc[:, 1], c= GridSearch_CV_Test, s= 50, cmap= cmap)\n",
    "\n",
    "plt.xlabel(\"Lenght\")\n",
    "plt.ylabel(\"Diameter\")\n",
    "plt.title(\"Gráfica de Puntos Empleando K-NN con K= 45\")\n",
    "\n",
    "f.colorbar(points)\n",
    "\n",
    "plt.show()"
   ]
  }
 ],
 "metadata": {
  "kernelspec": {
   "display_name": "Python 3",
   "language": "python",
   "name": "python3"
  },
  "language_info": {
   "codemirror_mode": {
    "name": "ipython",
    "version": 3
   },
   "file_extension": ".py",
   "mimetype": "text/x-python",
   "name": "python",
   "nbconvert_exporter": "python",
   "pygments_lexer": "ipython3",
   "version": "3.11.5"
  },
  "orig_nbformat": 4
 },
 "nbformat": 4,
 "nbformat_minor": 2
}
